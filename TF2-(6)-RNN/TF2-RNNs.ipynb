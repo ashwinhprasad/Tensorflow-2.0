{
 "cells": [
  {
   "cell_type": "code",
   "execution_count": 1,
   "metadata": {
    "id": "9Vph-ygK0Zzh"
   },
   "outputs": [],
   "source": [
    "#importing the libraries\n",
    "import tensorflow as tf\n",
    "import numpy as np\n",
    "import matplotlib.pyplot as plt\n",
    "import random"
   ]
  },
  {
   "cell_type": "code",
   "execution_count": 2,
   "metadata": {
    "id": "wU8vWDAj0ydi"
   },
   "outputs": [],
   "source": [
    "#creating sinwave with some noise\n",
    "x = np.arange(0,720,1)\n",
    "y = np.sin(np.radians(x)) + np.random.normal(size=720)*0.05"
   ]
  },
  {
   "cell_type": "code",
   "execution_count": 3,
   "metadata": {
    "colab": {
     "base_uri": "https://localhost:8080/",
     "height": 282
    },
    "id": "k0WrGoPs1JRY",
    "outputId": "9c191176-ebfe-409f-ec58-beba327acc03"
   },
   "outputs": [
    {
     "data": {
      "text/plain": [
       "[<matplotlib.lines.Line2D at 0x7f0ea55620f0>]"
      ]
     },
     "execution_count": 3,
     "metadata": {
      "tags": []
     },
     "output_type": "execute_result"
    },
    {
     "data": {
      "image/png": "[encoded data removed]",
      "text/plain": [
       "<Figure size 432x288 with 1 Axes>"
      ]
     },
     "metadata": {
      "needs_background": "light",
      "tags": []
     },
     "output_type": "display_data"
    }
   ],
   "source": [
    "#plotting the sinwave\n",
    "plt.plot(x,y)"
   ]
  },
  {
   "cell_type": "code",
   "execution_count": 4,
   "metadata": {
    "id": "-oeZxcZ_1LLQ"
   },
   "outputs": [],
   "source": [
    "#converting the data into a time series format\n",
    "X = []\n",
    "Y = []\n",
    "for i in range(x.shape[0]-10):\n",
    "    row = []\n",
    "    for j in range(i,i+10):\n",
    "        row.append(y[j])\n",
    "    X.append(row)\n",
    "    Y.append(y[j+1])"
   ]
  },
  {
   "cell_type": "code",
   "execution_count": 5,
   "metadata": {
    "colab": {
     "base_uri": "https://localhost:8080/"
    },
    "id": "HAJ_Vn3_15Ni",
    "outputId": "182dc415-31c6-4390-f286-6ab69190e679"
   },
   "outputs": [
    {
     "name": "stdout",
     "output_type": "stream",
     "text": [
      "(710, 10, 1) (710,)\n"
     ]
    }
   ],
   "source": [
    "#converting to numpy\n",
    "x = np.array(X)\n",
    "x = x.reshape(-1,10,1)\n",
    "y = np.array(Y)\n",
    "print(x.shape,y.shape)"
   ]
  },
  {
   "cell_type": "code",
   "execution_count": 6,
   "metadata": {
    "id": "Iq6N_V1z9iy-"
   },
   "outputs": [],
   "source": [
    "#training and testing splits\n",
    "from sklearn.model_selection import train_test_split\n",
    "x_train, x_test, y_train, y_test = train_test_split(x,y,test_size=0.5,shuffle=False)"
   ]
  },
  {
   "cell_type": "code",
   "execution_count": 7,
   "metadata": {
    "id": "t3FSXssU3KSe"
   },
   "outputs": [],
   "source": [
    "#creating the model\n",
    "input = tf.keras.layers.Input(shape=(10,1))\n",
    "rnn = tf.keras.layers.SimpleRNN(5,activation=tf.keras.activations.relu)(input)\n",
    "fc1 = tf.keras.layers.Dense(1)(rnn)\n",
    "model = tf.keras.models.Model(input,fc1)"
   ]
  },
  {
   "cell_type": "code",
   "execution_count": 8,
   "metadata": {
    "id": "xmmTeA0k52Z1"
   },
   "outputs": [],
   "source": [
    "#optimizer and loss\n",
    "model.compile(optimizer=tf.keras.optimizers.Adam(learning_rate=0.001),loss=tf.keras.losses.mse)"
   ]
  },
  {
   "cell_type": "code",
   "execution_count": 9,
   "metadata": {
    "colab": {
     "base_uri": "https://localhost:8080/"
    },
    "id": "LTWq2uNJ6nsk",
    "outputId": "a13a1bb7-5705-4b75-e022-597a1273ee88"
   },
   "outputs": [
    {
     "name": "stdout",
     "output_type": "stream",
     "text": [
      "Epoch 1/200\n",
      "12/12 [==============================] - 0s 19ms/step - loss: 0.6398 - val_loss: 0.5907\n",
      "Epoch 2/200\n",
      "12/12 [==============================] - 0s 4ms/step - loss: 0.5556 - val_loss: 0.5095\n",
      "Epoch 3/200\n",
      "12/12 [==============================] - 0s 4ms/step - loss: 0.4553 - val_loss: 0.3494\n",
      "Epoch 4/200\n",
      "12/12 [==============================] - 0s 4ms/step - loss: 0.2629 - val_loss: 0.1613\n",
      "Epoch 5/200\n",
      "12/12 [==============================] - 0s 4ms/step - loss: 0.1108 - val_loss: 0.0629\n",
      "Epoch 6/200\n",
      "12/12 [==============================] - 0s 4ms/step - loss: 0.0475 - val_loss: 0.0341\n",
      "Epoch 7/200\n",
      "12/12 [==============================] - 0s 4ms/step - loss: 0.0303 - val_loss: 0.0256\n",
      "Epoch 8/200\n",
      "12/12 [==============================] - 0s 4ms/step - loss: 0.0221 - val_loss: 0.0175\n",
      "Epoch 9/200\n",
      "12/12 [==============================] - 0s 5ms/step - loss: 0.0150 - val_loss: 0.0129\n",
      "Epoch 10/200\n",
      "12/12 [==============================] - 0s 4ms/step - loss: 0.0118 - val_loss: 0.0110\n",
      "Epoch 11/200\n",
      "12/12 [==============================] - 0s 4ms/step - loss: 0.0103 - val_loss: 0.0101\n",
      "Epoch 12/200\n",
      "12/12 [==============================] - 0s 4ms/step - loss: 0.0095 - val_loss: 0.0095\n",
      "Epoch 13/200\n",
      "12/12 [==============================] - 0s 4ms/step - loss: 0.0090 - val_loss: 0.0091\n",
      "Epoch 14/200\n",
      "12/12 [==============================] - 0s 4ms/step - loss: 0.0086 - val_loss: 0.0088\n",
      "Epoch 15/200\n",
      "12/12 [==============================] - 0s 4ms/step - loss: 0.0082 - val_loss: 0.0085\n",
      "Epoch 16/200\n",
      "12/12 [==============================] - 0s 4ms/step - loss: 0.0079 - val_loss: 0.0083\n",
      "Epoch 17/200\n",
      "12/12 [==============================] - 0s 5ms/step - loss: 0.0076 - val_loss: 0.0080\n",
      "Epoch 18/200\n",
      "12/12 [==============================] - 0s 5ms/step - loss: 0.0074 - val_loss: 0.0078\n",
      "Epoch 19/200\n",
      "12/12 [==============================] - 0s 5ms/step - loss: 0.0071 - val_loss: 0.0075\n",
      "Epoch 20/200\n",
      "12/12 [==============================] - 0s 5ms/step - loss: 0.0069 - val_loss: 0.0073\n",
      "Epoch 21/200\n",
      "12/12 [==============================] - 0s 4ms/step - loss: 0.0067 - val_loss: 0.0071\n",
      "Epoch 22/200\n",
      "12/12 [==============================] - 0s 4ms/step - loss: 0.0066 - val_loss: 0.0070\n",
      "Epoch 23/200\n",
      "12/12 [==============================] - 0s 4ms/step - loss: 0.0064 - val_loss: 0.0068\n",
      "Epoch 24/200\n",
      "12/12 [==============================] - 0s 5ms/step - loss: 0.0063 - val_loss: 0.0066\n",
      "Epoch 25/200\n",
      "12/12 [==============================] - 0s 5ms/step - loss: 0.0061 - val_loss: 0.0065\n",
      "Epoch 26/200\n",
      "12/12 [==============================] - 0s 6ms/step - loss: 0.0060 - val_loss: 0.0063\n",
      "Epoch 27/200\n",
      "12/12 [==============================] - 0s 4ms/step - loss: 0.0059 - val_loss: 0.0062\n",
      "Epoch 28/200\n",
      "12/12 [==============================] - 0s 5ms/step - loss: 0.0058 - val_loss: 0.0060\n",
      "Epoch 29/200\n",
      "12/12 [==============================] - 0s 4ms/step - loss: 0.0057 - val_loss: 0.0059\n",
      "Epoch 30/200\n",
      "12/12 [==============================] - 0s 4ms/step - loss: 0.0056 - val_loss: 0.0058\n",
      "Epoch 31/200\n",
      "12/12 [==============================] - 0s 4ms/step - loss: 0.0055 - val_loss: 0.0057\n",
      "Epoch 32/200\n",
      "12/12 [==============================] - 0s 4ms/step - loss: 0.0054 - val_loss: 0.0056\n",
      "Epoch 33/200\n",
      "12/12 [==============================] - 0s 4ms/step - loss: 0.0053 - val_loss: 0.0055\n",
      "Epoch 34/200\n",
      "12/12 [==============================] - 0s 4ms/step - loss: 0.0052 - val_loss: 0.0055\n",
      "Epoch 35/200\n",
      "12/12 [==============================] - 0s 5ms/step - loss: 0.0052 - val_loss: 0.0054\n",
      "Epoch 36/200\n",
      "12/12 [==============================] - 0s 4ms/step - loss: 0.0051 - val_loss: 0.0053\n",
      "Epoch 37/200\n",
      "12/12 [==============================] - 0s 4ms/step - loss: 0.0050 - val_loss: 0.0052\n",
      "Epoch 38/200\n",
      "12/12 [==============================] - 0s 4ms/step - loss: 0.0050 - val_loss: 0.0051\n",
      "Epoch 39/200\n",
      "12/12 [==============================] - 0s 5ms/step - loss: 0.0049 - val_loss: 0.0051\n",
      "Epoch 40/200\n",
      "12/12 [==============================] - 0s 4ms/step - loss: 0.0049 - val_loss: 0.0050\n",
      "Epoch 41/200\n",
      "12/12 [==============================] - 0s 4ms/step - loss: 0.0048 - val_loss: 0.0049\n",
      "Epoch 42/200\n",
      "12/12 [==============================] - 0s 4ms/step - loss: 0.0048 - val_loss: 0.0048\n",
      "Epoch 43/200\n",
      "12/12 [==============================] - 0s 5ms/step - loss: 0.0047 - val_loss: 0.0047\n",
      "Epoch 44/200\n",
      "12/12 [==============================] - 0s 4ms/step - loss: 0.0046 - val_loss: 0.0047\n",
      "Epoch 45/200\n",
      "12/12 [==============================] - 0s 4ms/step - loss: 0.0046 - val_loss: 0.0046\n",
      "Epoch 46/200\n",
      "12/12 [==============================] - 0s 4ms/step - loss: 0.0046 - val_loss: 0.0046\n",
      "Epoch 47/200\n",
      "12/12 [==============================] - 0s 4ms/step - loss: 0.0045 - val_loss: 0.0046\n",
      "Epoch 48/200\n",
      "12/12 [==============================] - 0s 4ms/step - loss: 0.0045 - val_loss: 0.0045\n",
      "Epoch 49/200\n",
      "12/12 [==============================] - 0s 5ms/step - loss: 0.0045 - val_loss: 0.0045\n",
      "Epoch 50/200\n",
      "12/12 [==============================] - 0s 5ms/step - loss: 0.0044 - val_loss: 0.0044\n",
      "Epoch 51/200\n",
      "12/12 [==============================] - 0s 4ms/step - loss: 0.0044 - val_loss: 0.0044\n",
      "Epoch 52/200\n",
      "12/12 [==============================] - 0s 4ms/step - loss: 0.0043 - val_loss: 0.0044\n",
      "Epoch 53/200\n",
      "12/12 [==============================] - 0s 4ms/step - loss: 0.0043 - val_loss: 0.0044\n",
      "Epoch 54/200\n",
      "12/12 [==============================] - 0s 4ms/step - loss: 0.0043 - val_loss: 0.0043\n",
      "Epoch 55/200\n",
      "12/12 [==============================] - 0s 4ms/step - loss: 0.0042 - val_loss: 0.0043\n",
      "Epoch 56/200\n",
      "12/12 [==============================] - 0s 4ms/step - loss: 0.0042 - val_loss: 0.0043\n",
      "Epoch 57/200\n",
      "12/12 [==============================] - 0s 4ms/step - loss: 0.0042 - val_loss: 0.0042\n",
      "Epoch 58/200\n",
      "12/12 [==============================] - 0s 4ms/step - loss: 0.0042 - val_loss: 0.0042\n",
      "Epoch 59/200\n",
      "12/12 [==============================] - 0s 5ms/step - loss: 0.0042 - val_loss: 0.0042\n",
      "Epoch 60/200\n",
      "12/12 [==============================] - 0s 6ms/step - loss: 0.0042 - val_loss: 0.0042\n",
      "Epoch 61/200\n",
      "12/12 [==============================] - 0s 5ms/step - loss: 0.0041 - val_loss: 0.0041\n",
      "Epoch 62/200\n",
      "12/12 [==============================] - 0s 5ms/step - loss: 0.0041 - val_loss: 0.0041\n",
      "Epoch 63/200\n",
      "12/12 [==============================] - 0s 4ms/step - loss: 0.0041 - val_loss: 0.0041\n",
      "Epoch 64/200\n",
      "12/12 [==============================] - 0s 4ms/step - loss: 0.0041 - val_loss: 0.0041\n",
      "Epoch 65/200\n",
      "12/12 [==============================] - 0s 4ms/step - loss: 0.0041 - val_loss: 0.0041\n",
      "Epoch 66/200\n",
      "12/12 [==============================] - 0s 4ms/step - loss: 0.0041 - val_loss: 0.0041\n",
      "Epoch 67/200\n",
      "12/12 [==============================] - 0s 4ms/step - loss: 0.0040 - val_loss: 0.0041\n",
      "Epoch 68/200\n",
      "12/12 [==============================] - 0s 4ms/step - loss: 0.0040 - val_loss: 0.0041\n",
      "Epoch 69/200\n",
      "12/12 [==============================] - 0s 4ms/step - loss: 0.0040 - val_loss: 0.0040\n",
      "Epoch 70/200\n",
      "12/12 [==============================] - 0s 5ms/step - loss: 0.0040 - val_loss: 0.0040\n",
      "Epoch 71/200\n",
      "12/12 [==============================] - 0s 5ms/step - loss: 0.0040 - val_loss: 0.0040\n",
      "Epoch 72/200\n",
      "12/12 [==============================] - 0s 5ms/step - loss: 0.0040 - val_loss: 0.0040\n",
      "Epoch 73/200\n",
      "12/12 [==============================] - 0s 4ms/step - loss: 0.0040 - val_loss: 0.0040\n",
      "Epoch 74/200\n",
      "12/12 [==============================] - 0s 4ms/step - loss: 0.0040 - val_loss: 0.0040\n",
      "Epoch 75/200\n",
      "12/12 [==============================] - 0s 4ms/step - loss: 0.0040 - val_loss: 0.0040\n",
      "Epoch 76/200\n",
      "12/12 [==============================] - 0s 4ms/step - loss: 0.0040 - val_loss: 0.0040\n",
      "Epoch 77/200\n",
      "12/12 [==============================] - 0s 4ms/step - loss: 0.0039 - val_loss: 0.0040\n",
      "Epoch 78/200\n",
      "12/12 [==============================] - 0s 4ms/step - loss: 0.0039 - val_loss: 0.0040\n",
      "Epoch 79/200\n",
      "12/12 [==============================] - 0s 4ms/step - loss: 0.0039 - val_loss: 0.0040\n",
      "Epoch 80/200\n",
      "12/12 [==============================] - 0s 4ms/step - loss: 0.0039 - val_loss: 0.0040\n",
      "Epoch 81/200\n",
      "12/12 [==============================] - 0s 4ms/step - loss: 0.0039 - val_loss: 0.0040\n",
      "Epoch 82/200\n",
      "12/12 [==============================] - 0s 4ms/step - loss: 0.0039 - val_loss: 0.0040\n",
      "Epoch 83/200\n",
      "12/12 [==============================] - 0s 4ms/step - loss: 0.0039 - val_loss: 0.0040\n",
      "Epoch 84/200\n",
      "12/12 [==============================] - 0s 5ms/step - loss: 0.0039 - val_loss: 0.0040\n",
      "Epoch 85/200\n",
      "12/12 [==============================] - 0s 4ms/step - loss: 0.0039 - val_loss: 0.0040\n",
      "Epoch 86/200\n",
      "12/12 [==============================] - 0s 4ms/step - loss: 0.0039 - val_loss: 0.0040\n",
      "Epoch 87/200\n",
      "12/12 [==============================] - 0s 5ms/step - loss: 0.0039 - val_loss: 0.0039\n",
      "Epoch 88/200\n",
      "12/12 [==============================] - 0s 6ms/step - loss: 0.0039 - val_loss: 0.0040\n",
      "Epoch 89/200\n",
      "12/12 [==============================] - 0s 4ms/step - loss: 0.0039 - val_loss: 0.0039\n",
      "Epoch 90/200\n",
      "12/12 [==============================] - 0s 4ms/step - loss: 0.0039 - val_loss: 0.0039\n",
      "Epoch 91/200\n",
      "12/12 [==============================] - 0s 4ms/step - loss: 0.0039 - val_loss: 0.0039\n",
      "Epoch 92/200\n",
      "12/12 [==============================] - 0s 4ms/step - loss: 0.0039 - val_loss: 0.0039\n",
      "Epoch 93/200\n",
      "12/12 [==============================] - 0s 4ms/step - loss: 0.0039 - val_loss: 0.0039\n",
      "Epoch 94/200\n",
      "12/12 [==============================] - 0s 4ms/step - loss: 0.0039 - val_loss: 0.0039\n",
      "Epoch 95/200\n",
      "12/12 [==============================] - 0s 4ms/step - loss: 0.0039 - val_loss: 0.0039\n",
      "Epoch 96/200\n",
      "12/12 [==============================] - 0s 4ms/step - loss: 0.0039 - val_loss: 0.0039\n",
      "Epoch 97/200\n",
      "12/12 [==============================] - 0s 4ms/step - loss: 0.0039 - val_loss: 0.0040\n",
      "Epoch 98/200\n",
      "12/12 [==============================] - 0s 5ms/step - loss: 0.0039 - val_loss: 0.0039\n",
      "Epoch 99/200\n",
      "12/12 [==============================] - 0s 4ms/step - loss: 0.0039 - val_loss: 0.0039\n",
      "Epoch 100/200\n",
      "12/12 [==============================] - 0s 4ms/step - loss: 0.0039 - val_loss: 0.0039\n",
      "Epoch 101/200\n",
      "12/12 [==============================] - 0s 4ms/step - loss: 0.0039 - val_loss: 0.0039\n",
      "Epoch 102/200\n",
      "12/12 [==============================] - 0s 4ms/step - loss: 0.0039 - val_loss: 0.0039\n",
      "Epoch 103/200\n",
      "12/12 [==============================] - 0s 4ms/step - loss: 0.0039 - val_loss: 0.0039\n",
      "Epoch 104/200\n",
      "12/12 [==============================] - 0s 4ms/step - loss: 0.0039 - val_loss: 0.0039\n",
      "Epoch 105/200\n",
      "12/12 [==============================] - 0s 5ms/step - loss: 0.0038 - val_loss: 0.0040\n",
      "Epoch 106/200\n",
      "12/12 [==============================] - 0s 5ms/step - loss: 0.0039 - val_loss: 0.0039\n",
      "Epoch 107/200\n",
      "12/12 [==============================] - 0s 4ms/step - loss: 0.0039 - val_loss: 0.0039\n",
      "Epoch 108/200\n",
      "12/12 [==============================] - 0s 4ms/step - loss: 0.0039 - val_loss: 0.0039\n",
      "Epoch 109/200\n",
      "12/12 [==============================] - 0s 5ms/step - loss: 0.0039 - val_loss: 0.0039\n",
      "Epoch 110/200\n",
      "12/12 [==============================] - 0s 5ms/step - loss: 0.0039 - val_loss: 0.0039\n",
      "Epoch 111/200\n",
      "12/12 [==============================] - 0s 4ms/step - loss: 0.0038 - val_loss: 0.0039\n",
      "Epoch 112/200\n",
      "12/12 [==============================] - 0s 4ms/step - loss: 0.0039 - val_loss: 0.0039\n",
      "Epoch 113/200\n",
      "12/12 [==============================] - 0s 4ms/step - loss: 0.0039 - val_loss: 0.0039\n",
      "Epoch 114/200\n",
      "12/12 [==============================] - 0s 5ms/step - loss: 0.0039 - val_loss: 0.0039\n",
      "Epoch 115/200\n",
      "12/12 [==============================] - 0s 4ms/step - loss: 0.0039 - val_loss: 0.0039\n",
      "Epoch 116/200\n",
      "12/12 [==============================] - 0s 4ms/step - loss: 0.0039 - val_loss: 0.0039\n",
      "Epoch 117/200\n",
      "12/12 [==============================] - 0s 4ms/step - loss: 0.0038 - val_loss: 0.0039\n",
      "Epoch 118/200\n",
      "12/12 [==============================] - 0s 5ms/step - loss: 0.0039 - val_loss: 0.0039\n",
      "Epoch 119/200\n",
      "12/12 [==============================] - 0s 5ms/step - loss: 0.0038 - val_loss: 0.0039\n",
      "Epoch 120/200\n",
      "12/12 [==============================] - 0s 5ms/step - loss: 0.0038 - val_loss: 0.0039\n",
      "Epoch 121/200\n",
      "12/12 [==============================] - 0s 4ms/step - loss: 0.0038 - val_loss: 0.0039\n",
      "Epoch 122/200\n",
      "12/12 [==============================] - 0s 5ms/step - loss: 0.0038 - val_loss: 0.0039\n",
      "Epoch 123/200\n",
      "12/12 [==============================] - 0s 4ms/step - loss: 0.0038 - val_loss: 0.0039\n",
      "Epoch 124/200\n",
      "12/12 [==============================] - 0s 4ms/step - loss: 0.0039 - val_loss: 0.0039\n",
      "Epoch 125/200\n",
      "12/12 [==============================] - 0s 5ms/step - loss: 0.0038 - val_loss: 0.0039\n",
      "Epoch 126/200\n",
      "12/12 [==============================] - 0s 5ms/step - loss: 0.0038 - val_loss: 0.0039\n",
      "Epoch 127/200\n",
      "12/12 [==============================] - 0s 4ms/step - loss: 0.0039 - val_loss: 0.0039\n",
      "Epoch 128/200\n",
      "12/12 [==============================] - 0s 5ms/step - loss: 0.0038 - val_loss: 0.0039\n",
      "Epoch 129/200\n",
      "12/12 [==============================] - 0s 5ms/step - loss: 0.0038 - val_loss: 0.0039\n",
      "Epoch 130/200\n",
      "12/12 [==============================] - 0s 4ms/step - loss: 0.0038 - val_loss: 0.0039\n",
      "Epoch 131/200\n",
      "12/12 [==============================] - 0s 4ms/step - loss: 0.0038 - val_loss: 0.0039\n",
      "Epoch 132/200\n",
      "12/12 [==============================] - 0s 4ms/step - loss: 0.0039 - val_loss: 0.0040\n",
      "Epoch 133/200\n",
      "12/12 [==============================] - 0s 4ms/step - loss: 0.0039 - val_loss: 0.0039\n",
      "Epoch 134/200\n",
      "12/12 [==============================] - 0s 4ms/step - loss: 0.0039 - val_loss: 0.0039\n",
      "Epoch 135/200\n",
      "12/12 [==============================] - 0s 4ms/step - loss: 0.0038 - val_loss: 0.0039\n",
      "Epoch 136/200\n",
      "12/12 [==============================] - 0s 5ms/step - loss: 0.0038 - val_loss: 0.0039\n",
      "Epoch 137/200\n",
      "12/12 [==============================] - 0s 5ms/step - loss: 0.0039 - val_loss: 0.0039\n",
      "Epoch 138/200\n",
      "12/12 [==============================] - 0s 4ms/step - loss: 0.0038 - val_loss: 0.0039\n",
      "Epoch 139/200\n",
      "12/12 [==============================] - 0s 4ms/step - loss: 0.0038 - val_loss: 0.0039\n",
      "Epoch 140/200\n",
      "12/12 [==============================] - 0s 4ms/step - loss: 0.0039 - val_loss: 0.0039\n",
      "Epoch 141/200\n",
      "12/12 [==============================] - 0s 4ms/step - loss: 0.0038 - val_loss: 0.0039\n",
      "Epoch 142/200\n",
      "12/12 [==============================] - 0s 5ms/step - loss: 0.0038 - val_loss: 0.0039\n",
      "Epoch 143/200\n",
      "12/12 [==============================] - 0s 5ms/step - loss: 0.0038 - val_loss: 0.0039\n",
      "Epoch 144/200\n",
      "12/12 [==============================] - 0s 4ms/step - loss: 0.0038 - val_loss: 0.0039\n",
      "Epoch 145/200\n",
      "12/12 [==============================] - 0s 5ms/step - loss: 0.0039 - val_loss: 0.0039\n",
      "Epoch 146/200\n",
      "12/12 [==============================] - 0s 4ms/step - loss: 0.0039 - val_loss: 0.0040\n",
      "Epoch 147/200\n",
      "12/12 [==============================] - 0s 4ms/step - loss: 0.0039 - val_loss: 0.0039\n",
      "Epoch 148/200\n",
      "12/12 [==============================] - 0s 4ms/step - loss: 0.0038 - val_loss: 0.0039\n",
      "Epoch 149/200\n",
      "12/12 [==============================] - 0s 4ms/step - loss: 0.0038 - val_loss: 0.0039\n",
      "Epoch 150/200\n",
      "12/12 [==============================] - 0s 4ms/step - loss: 0.0038 - val_loss: 0.0039\n",
      "Epoch 151/200\n",
      "12/12 [==============================] - 0s 4ms/step - loss: 0.0038 - val_loss: 0.0039\n",
      "Epoch 152/200\n",
      "12/12 [==============================] - 0s 5ms/step - loss: 0.0038 - val_loss: 0.0039\n",
      "Epoch 153/200\n",
      "12/12 [==============================] - 0s 5ms/step - loss: 0.0038 - val_loss: 0.0039\n",
      "Epoch 154/200\n",
      "12/12 [==============================] - 0s 5ms/step - loss: 0.0038 - val_loss: 0.0039\n",
      "Epoch 155/200\n",
      "12/12 [==============================] - 0s 5ms/step - loss: 0.0038 - val_loss: 0.0039\n",
      "Epoch 156/200\n",
      "12/12 [==============================] - 0s 4ms/step - loss: 0.0038 - val_loss: 0.0039\n",
      "Epoch 157/200\n",
      "12/12 [==============================] - 0s 4ms/step - loss: 0.0039 - val_loss: 0.0039\n",
      "Epoch 158/200\n",
      "12/12 [==============================] - 0s 4ms/step - loss: 0.0038 - val_loss: 0.0039\n",
      "Epoch 159/200\n",
      "12/12 [==============================] - 0s 4ms/step - loss: 0.0039 - val_loss: 0.0039\n",
      "Epoch 160/200\n",
      "12/12 [==============================] - 0s 5ms/step - loss: 0.0039 - val_loss: 0.0039\n",
      "Epoch 161/200\n",
      "12/12 [==============================] - 0s 4ms/step - loss: 0.0038 - val_loss: 0.0039\n",
      "Epoch 162/200\n",
      "12/12 [==============================] - 0s 4ms/step - loss: 0.0039 - val_loss: 0.0039\n",
      "Epoch 163/200\n",
      "12/12 [==============================] - 0s 4ms/step - loss: 0.0038 - val_loss: 0.0039\n",
      "Epoch 164/200\n",
      "12/12 [==============================] - 0s 4ms/step - loss: 0.0038 - val_loss: 0.0039\n",
      "Epoch 165/200\n",
      "12/12 [==============================] - 0s 4ms/step - loss: 0.0039 - val_loss: 0.0040\n",
      "Epoch 166/200\n",
      "12/12 [==============================] - 0s 4ms/step - loss: 0.0038 - val_loss: 0.0040\n",
      "Epoch 167/200\n",
      "12/12 [==============================] - 0s 5ms/step - loss: 0.0039 - val_loss: 0.0039\n",
      "Epoch 168/200\n",
      "12/12 [==============================] - 0s 4ms/step - loss: 0.0038 - val_loss: 0.0039\n",
      "Epoch 169/200\n",
      "12/12 [==============================] - 0s 4ms/step - loss: 0.0039 - val_loss: 0.0039\n",
      "Epoch 170/200\n",
      "12/12 [==============================] - 0s 4ms/step - loss: 0.0038 - val_loss: 0.0039\n",
      "Epoch 171/200\n",
      "12/12 [==============================] - 0s 4ms/step - loss: 0.0038 - val_loss: 0.0039\n",
      "Epoch 172/200\n",
      "12/12 [==============================] - 0s 4ms/step - loss: 0.0038 - val_loss: 0.0039\n",
      "Epoch 173/200\n",
      "12/12 [==============================] - 0s 4ms/step - loss: 0.0038 - val_loss: 0.0039\n",
      "Epoch 174/200\n",
      "12/12 [==============================] - 0s 5ms/step - loss: 0.0038 - val_loss: 0.0039\n",
      "Epoch 175/200\n",
      "12/12 [==============================] - 0s 6ms/step - loss: 0.0038 - val_loss: 0.0039\n",
      "Epoch 176/200\n",
      "12/12 [==============================] - 0s 6ms/step - loss: 0.0038 - val_loss: 0.0039\n",
      "Epoch 177/200\n",
      "12/12 [==============================] - 0s 5ms/step - loss: 0.0039 - val_loss: 0.0039\n",
      "Epoch 178/200\n",
      "12/12 [==============================] - 0s 4ms/step - loss: 0.0038 - val_loss: 0.0039\n",
      "Epoch 179/200\n",
      "12/12 [==============================] - 0s 4ms/step - loss: 0.0038 - val_loss: 0.0039\n",
      "Epoch 180/200\n",
      "12/12 [==============================] - 0s 5ms/step - loss: 0.0038 - val_loss: 0.0040\n",
      "Epoch 181/200\n",
      "12/12 [==============================] - 0s 5ms/step - loss: 0.0038 - val_loss: 0.0039\n",
      "Epoch 182/200\n",
      "12/12 [==============================] - 0s 5ms/step - loss: 0.0038 - val_loss: 0.0039\n",
      "Epoch 183/200\n",
      "12/12 [==============================] - 0s 4ms/step - loss: 0.0038 - val_loss: 0.0039\n",
      "Epoch 184/200\n",
      "12/12 [==============================] - 0s 5ms/step - loss: 0.0038 - val_loss: 0.0039\n",
      "Epoch 185/200\n",
      "12/12 [==============================] - 0s 5ms/step - loss: 0.0038 - val_loss: 0.0039\n",
      "Epoch 186/200\n",
      "12/12 [==============================] - 0s 4ms/step - loss: 0.0038 - val_loss: 0.0039\n",
      "Epoch 187/200\n",
      "12/12 [==============================] - 0s 5ms/step - loss: 0.0038 - val_loss: 0.0039\n",
      "Epoch 188/200\n",
      "12/12 [==============================] - 0s 4ms/step - loss: 0.0038 - val_loss: 0.0039\n",
      "Epoch 189/200\n",
      "12/12 [==============================] - 0s 5ms/step - loss: 0.0038 - val_loss: 0.0039\n",
      "Epoch 190/200\n",
      "12/12 [==============================] - 0s 5ms/step - loss: 0.0038 - val_loss: 0.0039\n",
      "Epoch 191/200\n",
      "12/12 [==============================] - 0s 6ms/step - loss: 0.0038 - val_loss: 0.0039\n",
      "Epoch 192/200\n",
      "12/12 [==============================] - 0s 5ms/step - loss: 0.0038 - val_loss: 0.0039\n",
      "Epoch 193/200\n",
      "12/12 [==============================] - 0s 4ms/step - loss: 0.0038 - val_loss: 0.0039\n",
      "Epoch 194/200\n",
      "12/12 [==============================] - 0s 4ms/step - loss: 0.0038 - val_loss: 0.0039\n",
      "Epoch 195/200\n",
      "12/12 [==============================] - 0s 4ms/step - loss: 0.0038 - val_loss: 0.0039\n",
      "Epoch 196/200\n",
      "12/12 [==============================] - 0s 4ms/step - loss: 0.0038 - val_loss: 0.0039\n",
      "Epoch 197/200\n",
      "12/12 [==============================] - 0s 5ms/step - loss: 0.0038 - val_loss: 0.0039\n",
      "Epoch 198/200\n",
      "12/12 [==============================] - 0s 4ms/step - loss: 0.0038 - val_loss: 0.0039\n",
      "Epoch 199/200\n",
      "12/12 [==============================] - 0s 4ms/step - loss: 0.0038 - val_loss: 0.0039\n",
      "Epoch 200/200\n",
      "12/12 [==============================] - 0s 4ms/step - loss: 0.0038 - val_loss: 0.0039\n"
     ]
    }
   ],
   "source": [
    "train = model.fit(x_train,y_train,validation_data=(x_test,y_test),epochs=200)"
   ]
  },
  {
   "cell_type": "code",
   "execution_count": 10,
   "metadata": {
    "colab": {
     "base_uri": "https://localhost:8080/",
     "height": 282
    },
    "id": "xTwaNKAWIAVA",
    "outputId": "427f7d29-c8da-440d-c942-795ff1427aad"
   },
   "outputs": [
    {
     "data": {
      "text/plain": [
       "<matplotlib.legend.Legend at 0x7f0e93298c88>"
      ]
     },
     "execution_count": 10,
     "metadata": {
      "tags": []
     },
     "output_type": "execute_result"
    },
    {
     "data": {
      "image/png": "[encoded data removed]",
      "text/plain": [
       "<Figure size 432x288 with 1 Axes>"
      ]
     },
     "metadata": {
      "needs_background": "light",
      "tags": []
     },
     "output_type": "display_data"
    }
   ],
   "source": [
    "plt.plot(train.history['loss'],label='train loss')\n",
    "plt.plot(train.history['val_loss'],label='val loss')\n",
    "plt.legend()"
   ]
  },
  {
   "cell_type": "code",
   "execution_count": 11,
   "metadata": {
    "colab": {
     "base_uri": "https://localhost:8080/",
     "height": 296
    },
    "id": "t4BVjRbYIaXY",
    "outputId": "5f2e7e1d-c9ff-4270-d2df-4a14a01638d2"
   },
   "outputs": [
    {
     "data": {
      "text/plain": [
       "<matplotlib.legend.Legend at 0x7f0e9318c400>"
      ]
     },
     "execution_count": 11,
     "metadata": {
      "tags": []
     },
     "output_type": "execute_result"
    },
    {
     "data": {
      "image/png": "[encoded data removed]",
      "text/plain": [
       "<Figure size 432x288 with 1 Axes>"
      ]
     },
     "metadata": {
      "needs_background": "light",
      "tags": []
     },
     "output_type": "display_data"
    }
   ],
   "source": [
    "#plotting the second half of the sinwave\n",
    "y_pred = model.predict(x_test)\n",
    "plt.plot(y_pred,label='predicted')\n",
    "plt.plot(y_test,label='actual')\n",
    "plt.xlabel('x')\n",
    "plt.ylabel('sin(x)')\n",
    "plt.legend()"
   ]
  }
 ],
 "metadata": {
  "colab": {
   "collapsed_sections": [],
   "name": "TF2-RNNs.ipynb",
   "provenance": []
  },
  "kernelspec": {
   "display_name": "Python 3",
   "language": "python",
   "name": "python3"
  },
  "language_info": {
   "codemirror_mode": {
    "name": "ipython",
    "version": 3
   },
   "file_extension": ".py",
   "mimetype": "text/x-python",
   "name": "python",
   "nbconvert_exporter": "python",
   "pygments_lexer": "ipython3",
   "version": "3.8.3"
  }
 },
 "nbformat": 4,
 "nbformat_minor": 1
}
