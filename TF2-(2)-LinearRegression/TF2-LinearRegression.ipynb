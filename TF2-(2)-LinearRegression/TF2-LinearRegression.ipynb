{
 "cells": [
  {
   "cell_type": "markdown",
   "metadata": {
    "id": "V3GS2MZKYX61"
   },
   "source": [
    "# TensorFlow2 - Linear Regression"
   ]
  },
  {
   "cell_type": "code",
   "execution_count": null,
   "metadata": {
    "id": "J63Sp75TaJTN"
   },
   "outputs": [],
   "source": [
    "#importing the libraries\n",
    "import tensorflow as tf\n",
    "import pandas as pd\n",
    "import numpy as np\n",
    "import matplotlib.pyplot as plt\n",
    "import seaborn as sns"
   ]
  },
  {
   "cell_type": "code",
   "execution_count": null,
   "metadata": {
    "id": "wzjN_mURaRyY"
   },
   "outputs": [],
   "source": [
    "#data preprocessing\n",
    "#train set\n",
    "data_train = pd.read_csv('train.csv')\n",
    "data_test = pd.read_csv('test.csv')\n",
    "\n",
    "#removing null values\n",
    "data_train = data_train.dropna(axis=0,how='any')"
   ]
  },
  {
   "cell_type": "code",
   "execution_count": null,
   "metadata": {
    "id": "oTzQdEqFleS_"
   },
   "outputs": [],
   "source": [
    "#xtrain, x_test , y_train, y_test\n",
    "x_train = data_train['x']\n",
    "y_train = data_train['y']\n",
    "x_test = data_test['x']\n",
    "y_test = data_test['y']"
   ]
  },
  {
   "cell_type": "code",
   "execution_count": null,
   "metadata": {
    "colab": {
     "base_uri": "https://localhost:8080/",
     "height": 391
    },
    "id": "TGv1tPnBbVeJ",
    "outputId": "f09e7dca-df88-43f5-85f3-c92657006617"
   },
   "outputs": [
    {
     "data": {
      "text/plain": [
       "<matplotlib.collections.PathCollection at 0x7f2b6475e208>"
      ]
     },
     "execution_count": 4,
     "metadata": {
      "tags": []
     },
     "output_type": "execute_result"
    },
    {
     "data": {
      "image/png": "[encoded data removed]",
      "text/plain": [
       "<Figure size 576x432 with 1 Axes>"
      ]
     },
     "metadata": {
      "needs_background": "light",
      "tags": []
     },
     "output_type": "display_data"
    }
   ],
   "source": [
    "plt.figure(figsize=(8,6))\n",
    "plt.scatter(x_train,y_train)"
   ]
  },
  {
   "cell_type": "code",
   "execution_count": null,
   "metadata": {
    "colab": {
     "base_uri": "https://localhost:8080/",
     "height": 34
    },
    "id": "qqXfTudWc1dz",
    "outputId": "0f03282c-dd1f-407d-c360-1f794800fe80"
   },
   "outputs": [
    {
     "name": "stdout",
     "output_type": "stream",
     "text": [
      "(699, 1) (699,)\n"
     ]
    }
   ],
   "source": [
    "#converting to numpy\n",
    "x_train = np.array(x_train).reshape(-1,1)\n",
    "y_train = np.array(y_train)\n",
    "print(x_train.shape,y_train.shape)"
   ]
  },
  {
   "cell_type": "markdown",
   "metadata": {
    "id": "jhEoLDm9YfST"
   },
   "source": [
    "# Creating a Sequential Model with TF2\n",
    "\n",
    "Sequential Layer allows stacking of one layer on top of the other , enabling the data to flow through them\n",
    "\n",
    "There are 2 ways to do this as shown in the below cell"
   ]
  },
  {
   "cell_type": "code",
   "execution_count": null,
   "metadata": {
    "id": "M793Z3SEblPY"
   },
   "outputs": [],
   "source": [
    "from tensorflow.keras.models import Sequential\n",
    "from tensorflow.keras.layers import Dense\n",
    "\n",
    "model = Sequential()\n",
    "model.add(Dense(1))\n",
    "\n",
    "\"\"\"\n",
    "(Alternative way for dedfining a sequential model)\n",
    "model = Sequential([\n",
    "        Dense(1)\n",
    "])\"\"\""
   ]
  },
  {
   "cell_type": "markdown",
   "metadata": {
    "id": "ibmFWSSvY-L6"
   },
   "source": [
    "# Optimizer and Gradient Descent\n",
    "\n",
    "we use mini-batch gradient descent optimizer here.\n",
    "and mean square loss for this problem"
   ]
  },
  {
   "cell_type": "code",
   "execution_count": null,
   "metadata": {
    "colab": {
     "base_uri": "https://localhost:8080/",
     "height": 1000
    },
    "id": "d94skZnIcRcl",
    "outputId": "342193c9-6041-46f4-8d89-b75af6ccda52"
   },
   "outputs": [
    {
     "name": "stdout",
     "output_type": "stream",
     "text": [
      "Epoch 1/50\n",
      "22/22 [==============================] - 0s 899us/step - loss: 43.0529\n",
      "Epoch 2/50\n",
      "22/22 [==============================] - 0s 877us/step - loss: 8.0530\n",
      "Epoch 3/50\n",
      "22/22 [==============================] - 0s 871us/step - loss: 7.9966\n",
      "Epoch 4/50\n",
      "22/22 [==============================] - 0s 772us/step - loss: 8.0156\n",
      "Epoch 5/50\n",
      "22/22 [==============================] - 0s 878us/step - loss: 7.9831\n",
      "Epoch 6/50\n",
      "22/22 [==============================] - 0s 976us/step - loss: 7.9394\n",
      "Epoch 7/50\n",
      "22/22 [==============================] - 0s 843us/step - loss: 7.9967\n",
      "Epoch 8/50\n",
      "22/22 [==============================] - 0s 856us/step - loss: 7.9720\n",
      "Epoch 9/50\n",
      "22/22 [==============================] - 0s 790us/step - loss: 8.0014\n",
      "Epoch 10/50\n",
      "22/22 [==============================] - 0s 827us/step - loss: 8.0113\n",
      "Epoch 11/50\n",
      "22/22 [==============================] - 0s 841us/step - loss: 8.1476\n",
      "Epoch 12/50\n",
      "22/22 [==============================] - 0s 1ms/step - loss: 8.0045\n",
      "Epoch 13/50\n",
      "22/22 [==============================] - 0s 1ms/step - loss: 7.9292\n",
      "Epoch 14/50\n",
      "22/22 [==============================] - 0s 862us/step - loss: 7.9781\n",
      "Epoch 15/50\n",
      "22/22 [==============================] - 0s 959us/step - loss: 7.9842\n",
      "Epoch 16/50\n",
      "22/22 [==============================] - 0s 942us/step - loss: 7.9340\n",
      "Epoch 17/50\n",
      "22/22 [==============================] - 0s 1ms/step - loss: 8.1045\n",
      "Epoch 18/50\n",
      "22/22 [==============================] - 0s 877us/step - loss: 8.0045\n",
      "Epoch 19/50\n",
      "22/22 [==============================] - 0s 882us/step - loss: 8.0264\n",
      "Epoch 20/50\n",
      "22/22 [==============================] - 0s 1ms/step - loss: 8.0247\n",
      "Epoch 21/50\n",
      "22/22 [==============================] - 0s 804us/step - loss: 8.0307\n",
      "Epoch 22/50\n",
      "22/22 [==============================] - 0s 873us/step - loss: 8.0067\n",
      "Epoch 23/50\n",
      "22/22 [==============================] - 0s 935us/step - loss: 7.9602\n",
      "Epoch 24/50\n",
      "22/22 [==============================] - 0s 1ms/step - loss: 8.0481\n",
      "Epoch 25/50\n",
      "22/22 [==============================] - 0s 878us/step - loss: 7.9445\n",
      "Epoch 26/50\n",
      "22/22 [==============================] - 0s 860us/step - loss: 8.0454\n",
      "Epoch 27/50\n",
      "22/22 [==============================] - 0s 995us/step - loss: 8.0738\n",
      "Epoch 28/50\n",
      "22/22 [==============================] - 0s 927us/step - loss: 8.0831\n",
      "Epoch 29/50\n",
      "22/22 [==============================] - 0s 833us/step - loss: 7.9451\n",
      "Epoch 30/50\n",
      "22/22 [==============================] - 0s 809us/step - loss: 8.0093\n",
      "Epoch 31/50\n",
      "22/22 [==============================] - 0s 905us/step - loss: 8.0087\n",
      "Epoch 32/50\n",
      "22/22 [==============================] - 0s 943us/step - loss: 7.9340\n",
      "Epoch 33/50\n",
      "22/22 [==============================] - 0s 1ms/step - loss: 8.2399\n",
      "Epoch 34/50\n",
      "22/22 [==============================] - 0s 939us/step - loss: 8.0450\n",
      "Epoch 35/50\n",
      "22/22 [==============================] - 0s 819us/step - loss: 8.0076\n",
      "Epoch 36/50\n",
      "22/22 [==============================] - 0s 854us/step - loss: 7.9966\n",
      "Epoch 37/50\n",
      "22/22 [==============================] - 0s 890us/step - loss: 7.9712\n",
      "Epoch 38/50\n",
      "22/22 [==============================] - 0s 819us/step - loss: 8.1187\n",
      "Epoch 39/50\n",
      "22/22 [==============================] - 0s 905us/step - loss: 8.0298\n",
      "Epoch 40/50\n",
      "22/22 [==============================] - 0s 857us/step - loss: 8.0539\n",
      "Epoch 41/50\n",
      "22/22 [==============================] - 0s 858us/step - loss: 8.0040\n",
      "Epoch 42/50\n",
      "22/22 [==============================] - 0s 874us/step - loss: 7.9812\n",
      "Epoch 43/50\n",
      "22/22 [==============================] - 0s 854us/step - loss: 8.0653\n",
      "Epoch 44/50\n",
      "22/22 [==============================] - 0s 866us/step - loss: 8.0086\n",
      "Epoch 45/50\n",
      "22/22 [==============================] - 0s 918us/step - loss: 8.1191\n",
      "Epoch 46/50\n",
      "22/22 [==============================] - 0s 820us/step - loss: 7.9912\n",
      "Epoch 47/50\n",
      "22/22 [==============================] - 0s 861us/step - loss: 7.9801\n",
      "Epoch 48/50\n",
      "22/22 [==============================] - 0s 854us/step - loss: 7.9629\n",
      "Epoch 49/50\n",
      "22/22 [==============================] - 0s 896us/step - loss: 8.0035\n",
      "Epoch 50/50\n",
      "22/22 [==============================] - 0s 839us/step - loss: 8.0524\n"
     ]
    }
   ],
   "source": [
    "from tensorflow.keras.optimizers import SGD\n",
    "from tensorflow.keras.losses import mse\n",
    "model.compile(optimizer=SGD(learning_rate=0.0001),loss=mse)\n",
    "train = model.fit(x_train,y_train,epochs=50)"
   ]
  },
  {
   "cell_type": "markdown",
   "metadata": {
    "id": "II237OtQZR6E"
   },
   "source": [
    "# Performance Analysis\n",
    " \n",
    " The loss is reduced over time and the line of fit of the model seems to be the best fit for the below data"
   ]
  },
  {
   "cell_type": "code",
   "execution_count": null,
   "metadata": {
    "colab": {
     "base_uri": "https://localhost:8080/",
     "height": 296
    },
    "id": "MQ4yLQR-dP1W",
    "outputId": "3a2111ba-fefc-4d9a-e312-ac3720cd9b87"
   },
   "outputs": [
    {
     "data": {
      "text/plain": [
       "<matplotlib.legend.Legend at 0x7f2b5b484400>"
      ]
     },
     "execution_count": 8,
     "metadata": {
      "tags": []
     },
     "output_type": "execute_result"
    },
    {
     "data": {
      "image/png": "[encoded data removed]",
      "text/plain": [
       "<Figure size 432x288 with 1 Axes>"
      ]
     },
     "metadata": {
      "needs_background": "light",
      "tags": []
     },
     "output_type": "display_data"
    }
   ],
   "source": [
    "#loss over time\n",
    "plt.plot(train.history['loss'],label='loss')\n",
    "plt.xlabel('epochs')\n",
    "plt.ylabel('loss')\n",
    "plt.legend()"
   ]
  },
  {
   "cell_type": "code",
   "execution_count": null,
   "metadata": {
    "id": "H0crdvpRGd08"
   },
   "outputs": [],
   "source": [
    "#testing the model\n",
    "y_pred = model.predict(np.array(x_test).reshape(-1,1))"
   ]
  },
  {
   "cell_type": "code",
   "execution_count": null,
   "metadata": {
    "colab": {
     "base_uri": "https://localhost:8080/",
     "height": 500
    },
    "id": "qaRA5Xy2Gorp",
    "outputId": "a66abf07-cfc2-458d-8190-17c5966b1497"
   },
   "outputs": [
    {
     "data": {
      "text/plain": [
       "<matplotlib.legend.Legend at 0x7f2b5b43b828>"
      ]
     },
     "execution_count": 10,
     "metadata": {
      "tags": []
     },
     "output_type": "execute_result"
    },
    {
     "data": {
      "image/png": "[encoded data removed]",
      "text/plain": [
       "<Figure size 720x576 with 1 Axes>"
      ]
     },
     "metadata": {
      "needs_background": "light",
      "tags": []
     },
     "output_type": "display_data"
    }
   ],
   "source": [
    "plt.figure(figsize=(10,8))\n",
    "plt.plot(x_test,y_pred,color='red',linewidth=2,label='Line of best Fit')\n",
    "plt.scatter(x_test,y_test,label='Test data plots')\n",
    "plt.legend()"
   ]
  }
 ],
 "metadata": {
  "colab": {
   "collapsed_sections": [],
   "name": "TF2-LinearRegression.ipynb",
   "provenance": []
  },
  "kernelspec": {
   "display_name": "Python 3",
   "language": "python",
   "name": "python3"
  },
  "language_info": {
   "codemirror_mode": {
    "name": "ipython",
    "version": 3
   },
   "file_extension": ".py",
   "mimetype": "text/x-python",
   "name": "python",
   "nbconvert_exporter": "python",
   "pygments_lexer": "ipython3",
   "version": "3.8.3"
  }
 },
 "nbformat": 4,
 "nbformat_minor": 1
}
