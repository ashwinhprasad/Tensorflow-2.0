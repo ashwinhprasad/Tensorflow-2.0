{
  "nbformat": 4,
  "nbformat_minor": 0,
  "metadata": {
    "colab": {
      "name": "TF2-Functions.ipynb",
      "provenance": [],
      "collapsed_sections": []
    },
    "kernelspec": {
      "name": "python3",
      "display_name": "Python 3"
    }
  },
  "cells": [
    {
      "cell_type": "markdown",
      "metadata": {
        "id": "UU12mWuVo_M0"
      },
      "source": [
        "# Common Functions In Tensorflow and More\n",
        "\n",
        "This notebook contains some basic functions that we'll be using a lot for deep learning"
      ]
    },
    {
      "cell_type": "code",
      "metadata": {
        "id": "uryuaN7GE2aj"
      },
      "source": [
        "#importing the libraries\n",
        "import tensorflow as tf\n",
        "import numpy as np\n",
        "import matplotlib.pyplot as plt\n",
        "import seaborn as sns"
      ],
      "execution_count": 1,
      "outputs": []
    },
    {
      "cell_type": "markdown",
      "metadata": {
        "id": "hUF9ogUBpeI-"
      },
      "source": [
        "# Random\n",
        "\n",
        "random.normal generates random values of the given shape, which follow normal distribution\n",
        "\n",
        "and random.uniform generates random values in such a way that probability of choosing any number from the random bunch is almost uniform"
      ]
    },
    {
      "cell_type": "code",
      "metadata": {
        "id": "V3oCgbZaE9P3",
        "outputId": "75547d0b-cf1f-45da-e805-5c90fd4ef1b5",
        "colab": {
          "base_uri": "https://localhost:8080/"
        }
      },
      "source": [
        "#normal distribution\n",
        "x1 = tf.random.normal(shape=(5,5),mean=0,stddev=1) #normal distribution\n",
        "print(x1)"
      ],
      "execution_count": 2,
      "outputs": [
        {
          "output_type": "stream",
          "text": [
            "tf.Tensor(\n",
            "[[-1.1473149e+00  5.1616412e-01 -2.8656033e-01 -1.4161720e-03\n",
            "  -6.7782238e-02]\n",
            " [ 1.5549400e-01 -1.8609362e+00  7.8299832e-01 -7.3712116e-01\n",
            "  -3.0330741e-01]\n",
            " [ 5.6524660e-02  1.0138390e-01  1.2218195e+00  1.2505690e+00\n",
            "   3.0457941e-01]\n",
            " [ 3.6436683e-01 -8.6699528e-01  1.5152076e+00  7.8330201e-01\n",
            "  -1.4127023e+00]\n",
            " [-1.2999429e+00  1.3505920e+00  1.0376108e+00 -1.5029492e+00\n",
            "   9.7778231e-01]], shape=(5, 5), dtype=float32)\n"
          ],
          "name": "stdout"
        }
      ]
    },
    {
      "cell_type": "code",
      "metadata": {
        "id": "WFt7VaYmGLTE",
        "outputId": "2306f56c-c458-4074-c990-c406ef69c708",
        "colab": {
          "base_uri": "https://localhost:8080/",
          "height": 386
        }
      },
      "source": [
        "#visualize normal distribution\n",
        "x1 = tf.random.normal(shape=(500,))\n",
        "sns.displot(x1)"
      ],
      "execution_count": 3,
      "outputs": [
        {
          "output_type": "execute_result",
          "data": {
            "text/plain": [
              "<seaborn.axisgrid.FacetGrid at 0x7f44b6242048>"
            ]
          },
          "metadata": {
            "tags": []
          },
          "execution_count": 3
        },
        {
          "output_type": "display_data",
          "data": {
            "image/png": "[encoded data removed]",
            "text/plain": [
              "<Figure size 360x360 with 1 Axes>"
            ]
          },
          "metadata": {
            "tags": [],
            "needs_background": "light"
          }
        }
      ]
    },
    {
      "cell_type": "code",
      "metadata": {
        "id": "j2vkuw0DFmvL",
        "outputId": "440f1485-ec5b-40b3-d00d-ae863054d5e1",
        "colab": {
          "base_uri": "https://localhost:8080/"
        }
      },
      "source": [
        "#uniform distribution\n",
        "x2 = tf.random.uniform(shape=(5,4))\n",
        "print(x2)"
      ],
      "execution_count": 4,
      "outputs": [
        {
          "output_type": "stream",
          "text": [
            "tf.Tensor(\n",
            "[[0.65285194 0.42846894 0.12264287 0.10860097]\n",
            " [0.93370414 0.5431448  0.68363917 0.649168  ]\n",
            " [0.03916836 0.13292682 0.83300996 0.78246915]\n",
            " [0.82530236 0.58112395 0.5084605  0.7217077 ]\n",
            " [0.6427095  0.8807986  0.2582872  0.00343001]], shape=(5, 4), dtype=float32)\n"
          ],
          "name": "stdout"
        }
      ]
    },
    {
      "cell_type": "code",
      "metadata": {
        "id": "oo1BoN5oGdKz",
        "outputId": "a7efa5b6-0706-4286-9d5b-95de7914f9af",
        "colab": {
          "base_uri": "https://localhost:8080/",
          "height": 386
        }
      },
      "source": [
        "#visualize uniform distribution\n",
        "x2 = tf.random.uniform(shape=(500,))\n",
        "sns.displot(x2)"
      ],
      "execution_count": 5,
      "outputs": [
        {
          "output_type": "execute_result",
          "data": {
            "text/plain": [
              "<seaborn.axisgrid.FacetGrid at 0x7f44738cecf8>"
            ]
          },
          "metadata": {
            "tags": []
          },
          "execution_count": 5
        },
        {
          "output_type": "display_data",
          "data": {
            "image/png": "[encoded data removed]",
            "text/plain": [
              "<Figure size 360x360 with 1 Axes>"
            ]
          },
          "metadata": {
            "tags": [],
            "needs_background": "light"
          }
        }
      ]
    },
    {
      "cell_type": "markdown",
      "metadata": {
        "id": "BycRg9IwqFzM"
      },
      "source": [
        "# Reshape, Stack, Concatenate and argsort\n",
        "\n",
        "reshape as the name suggests, is used to reshape the tensor\n",
        "\n",
        "concatenate basically appends the second tensor on the bottom of the first tensor\n",
        "\n",
        "stack is similar to concatenate but, it stacks another tensor with a tensor like adding an extra column\n",
        "\n",
        "argsort sorts the tensor in ascending order and returns the index"
      ]
    },
    {
      "cell_type": "code",
      "metadata": {
        "id": "f3cKP03YHgOw",
        "outputId": "8d923c83-0755-4021-805d-93022c2b11ae",
        "colab": {
          "base_uri": "https://localhost:8080/"
        }
      },
      "source": [
        "#reshape\n",
        "x3 = tf.random.normal(shape=(64,))\n",
        "print(x3)"
      ],
      "execution_count": 6,
      "outputs": [
        {
          "output_type": "stream",
          "text": [
            "tf.Tensor(\n",
            "[ 0.42399088 -0.80428976  0.04625189  0.12766832 -1.1452513  -1.132444\n",
            " -1.5954331  -0.7658271   0.23830678  0.87359303 -1.1955462   0.60085934\n",
            " -0.16850014  0.23895513 -0.79428434  0.5901934   0.7201891  -0.88731915\n",
            "  0.416003    0.36231613 -0.9967045   0.25209612  0.7464547  -0.5838859\n",
            "  0.81082785  1.1345944  -0.13218845 -1.1947349  -0.15193698 -0.15605085\n",
            " -0.22355284  0.22670309 -0.09245801 -0.47463486 -0.0844338   0.395378\n",
            "  1.7628212   1.1505485   0.4349458  -1.070593    0.9156709  -0.09126403\n",
            " -1.127492   -0.7092636  -1.0289346  -0.06610456  1.199735   -0.07397708\n",
            " -0.19952694 -0.10441776 -0.99892586 -0.3821481   0.34758636  0.53041816\n",
            " -0.53391504 -1.2965931   1.4620845  -0.02443436  0.14388773  0.2543015\n",
            " -0.7513509  -0.18593496  1.0581148   0.18503264], shape=(64,), dtype=float32)\n"
          ],
          "name": "stdout"
        }
      ]
    },
    {
      "cell_type": "code",
      "metadata": {
        "id": "ioiiphrMHvYJ",
        "outputId": "ea2d0442-5768-4365-b1e7-fca41cbc1b6b",
        "colab": {
          "base_uri": "https://localhost:8080/"
        }
      },
      "source": [
        "#reshaping to a 32x2 tensor\n",
        "tf.reshape(x3,shape=(32,2))"
      ],
      "execution_count": 7,
      "outputs": [
        {
          "output_type": "execute_result",
          "data": {
            "text/plain": [
              "<tf.Tensor: shape=(32, 2), dtype=float32, numpy=\n",
              "array([[ 0.42399088, -0.80428976],\n",
              "       [ 0.04625189,  0.12766832],\n",
              "       [-1.1452513 , -1.132444  ],\n",
              "       [-1.5954331 , -0.7658271 ],\n",
              "       [ 0.23830678,  0.87359303],\n",
              "       [-1.1955462 ,  0.60085934],\n",
              "       [-0.16850014,  0.23895513],\n",
              "       [-0.79428434,  0.5901934 ],\n",
              "       [ 0.7201891 , -0.88731915],\n",
              "       [ 0.416003  ,  0.36231613],\n",
              "       [-0.9967045 ,  0.25209612],\n",
              "       [ 0.7464547 , -0.5838859 ],\n",
              "       [ 0.81082785,  1.1345944 ],\n",
              "       [-0.13218845, -1.1947349 ],\n",
              "       [-0.15193698, -0.15605085],\n",
              "       [-0.22355284,  0.22670309],\n",
              "       [-0.09245801, -0.47463486],\n",
              "       [-0.0844338 ,  0.395378  ],\n",
              "       [ 1.7628212 ,  1.1505485 ],\n",
              "       [ 0.4349458 , -1.070593  ],\n",
              "       [ 0.9156709 , -0.09126403],\n",
              "       [-1.127492  , -0.7092636 ],\n",
              "       [-1.0289346 , -0.06610456],\n",
              "       [ 1.199735  , -0.07397708],\n",
              "       [-0.19952694, -0.10441776],\n",
              "       [-0.99892586, -0.3821481 ],\n",
              "       [ 0.34758636,  0.53041816],\n",
              "       [-0.53391504, -1.2965931 ],\n",
              "       [ 1.4620845 , -0.02443436],\n",
              "       [ 0.14388773,  0.2543015 ],\n",
              "       [-0.7513509 , -0.18593496],\n",
              "       [ 1.0581148 ,  0.18503264]], dtype=float32)>"
            ]
          },
          "metadata": {
            "tags": []
          },
          "execution_count": 7
        }
      ]
    },
    {
      "cell_type": "code",
      "metadata": {
        "id": "Musk1BGWH0SZ",
        "outputId": "78d7d52b-f515-45fa-a24f-4cfcb37c9aba",
        "colab": {
          "base_uri": "https://localhost:8080/"
        }
      },
      "source": [
        "# reshaping into 16 x 4 tensor\n",
        "tf.reshape(x3,shape=(-1,4))"
      ],
      "execution_count": 8,
      "outputs": [
        {
          "output_type": "execute_result",
          "data": {
            "text/plain": [
              "<tf.Tensor: shape=(16, 4), dtype=float32, numpy=\n",
              "array([[ 0.42399088, -0.80428976,  0.04625189,  0.12766832],\n",
              "       [-1.1452513 , -1.132444  , -1.5954331 , -0.7658271 ],\n",
              "       [ 0.23830678,  0.87359303, -1.1955462 ,  0.60085934],\n",
              "       [-0.16850014,  0.23895513, -0.79428434,  0.5901934 ],\n",
              "       [ 0.7201891 , -0.88731915,  0.416003  ,  0.36231613],\n",
              "       [-0.9967045 ,  0.25209612,  0.7464547 , -0.5838859 ],\n",
              "       [ 0.81082785,  1.1345944 , -0.13218845, -1.1947349 ],\n",
              "       [-0.15193698, -0.15605085, -0.22355284,  0.22670309],\n",
              "       [-0.09245801, -0.47463486, -0.0844338 ,  0.395378  ],\n",
              "       [ 1.7628212 ,  1.1505485 ,  0.4349458 , -1.070593  ],\n",
              "       [ 0.9156709 , -0.09126403, -1.127492  , -0.7092636 ],\n",
              "       [-1.0289346 , -0.06610456,  1.199735  , -0.07397708],\n",
              "       [-0.19952694, -0.10441776, -0.99892586, -0.3821481 ],\n",
              "       [ 0.34758636,  0.53041816, -0.53391504, -1.2965931 ],\n",
              "       [ 1.4620845 , -0.02443436,  0.14388773,  0.2543015 ],\n",
              "       [-0.7513509 , -0.18593496,  1.0581148 ,  0.18503264]],\n",
              "      dtype=float32)>"
            ]
          },
          "metadata": {
            "tags": []
          },
          "execution_count": 8
        }
      ]
    },
    {
      "cell_type": "code",
      "metadata": {
        "id": "ijn0oUr_IjQu",
        "outputId": "9b5eeaf2-2dd4-4e52-f47b-c47a89a27e92",
        "colab": {
          "base_uri": "https://localhost:8080/"
        }
      },
      "source": [
        "#argsort\n",
        "arr1 = tf.constant([2,41,1,2,5,82,12,32])\n",
        "tf.argsort(arr1,direction=\"ASCENDING\") "
      ],
      "execution_count": 9,
      "outputs": [
        {
          "output_type": "execute_result",
          "data": {
            "text/plain": [
              "<tf.Tensor: shape=(8,), dtype=int32, numpy=array([2, 0, 3, 4, 6, 7, 1, 5], dtype=int32)>"
            ]
          },
          "metadata": {
            "tags": []
          },
          "execution_count": 9
        }
      ]
    },
    {
      "cell_type": "code",
      "metadata": {
        "id": "pgdi0kuuJRaR"
      },
      "source": [
        "#concatenate and shape\n",
        "x4 = tf.random.normal(shape=(5,))\n",
        "x5 = tf.random.normal(shape=(6,))\n",
        "x6 = tf.concat([x4,x5],axis=0)"
      ],
      "execution_count": 10,
      "outputs": []
    },
    {
      "cell_type": "code",
      "metadata": {
        "id": "VwlM0MqhJggc",
        "outputId": "76ab082d-d437-4105-9bb3-89751de0b59c",
        "colab": {
          "base_uri": "https://localhost:8080/"
        }
      },
      "source": [
        "print(\"Tensor 1: \",x4.numpy(),\"\\nTensor 2: \",x5.numpy(),\"\\nTensor 3: \",x6.numpy())\n",
        "print(\"Shape of Tensor 3: \",x6.shape)"
      ],
      "execution_count": 11,
      "outputs": [
        {
          "output_type": "stream",
          "text": [
            "Tensor 1:  [ 0.8083252  -0.33577648 -0.08235504  0.54277456  0.14716475] \n",
            "Tensor 2:  [ 1.0126716  1.2005072  1.4773481  1.1552964 -1.7687838 -0.5394377] \n",
            "Tensor 3:  [ 0.8083252  -0.33577648 -0.08235504  0.54277456  0.14716475  1.0126716\n",
            "  1.2005072   1.4773481   1.1552964  -1.7687838  -0.5394377 ]\n",
            "Shape of Tensor 3:  (11,)\n"
          ],
          "name": "stdout"
        }
      ]
    }
  ]
}