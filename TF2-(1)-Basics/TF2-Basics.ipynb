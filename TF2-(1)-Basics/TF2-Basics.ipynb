{
 "cells": [
  {
   "cell_type": "markdown",
   "metadata": {
    "id": "4cdeYfpTby--"
   },
   "source": [
    "# TensorFlow and Keras\n",
    "\n",
    "Tensorflow is a Deep Learning and Neural Networks Library that can be used to solve machine learning and deep learning problems and provides efficient tools to implement various algorithms\n",
    "\n",
    "Keras is a high-level API that runs on top of tensorflow\n",
    "\n",
    "# TensorFlow - Tensor Basics\n",
    "\n",
    "This Notebook contains the basics and building blocks of tensorflow that are Tensors which are simply n-dimensional arrays\n",
    "\n"
   ]
  },
  {
   "cell_type": "code",
   "execution_count": 1,
   "metadata": {
    "id": "BixMssrAWQf0"
   },
   "outputs": [],
   "source": [
    "#importing the libraries\n",
    "import tensorflow as tf\n",
    "import numpy as np"
   ]
  },
  {
   "cell_type": "markdown",
   "metadata": {
    "id": "Ra6mqZ_ddV9E"
   },
   "source": [
    "# Scalar, Vectors and Matrices\n",
    "\n",
    "scalars are 0 dimensional tensors,\n",
    "vectors are 1 dimensional tensors\n",
    "and matrices are multi-dimensional tensors\n",
    "\n",
    "Scalars, Vectors and Matrices can be created in tensorflow with the function constant"
   ]
  },
  {
   "cell_type": "code",
   "execution_count": 2,
   "metadata": {
    "colab": {
     "base_uri": "https://localhost:8080/"
    },
    "id": "7GJ6W_cUWcan",
    "outputId": "aee535c1-1ae8-401d-d957-f47df7a7fd7b"
   },
   "outputs": [
    {
     "data": {
      "text/plain": [
       "1"
      ]
     },
     "execution_count": 2,
     "metadata": {
      "tags": []
     },
     "output_type": "execute_result"
    }
   ],
   "source": [
    "#scalars in tensorflow\n",
    "a = tf.constant(1)\n",
    "a.numpy()"
   ]
  },
  {
   "cell_type": "code",
   "execution_count": 3,
   "metadata": {
    "colab": {
     "base_uri": "https://localhost:8080/"
    },
    "id": "Qufoyc1JWxXn",
    "outputId": "a760ad65-6a00-4691-d1a4-e501a00fb84b"
   },
   "outputs": [
    {
     "name": "stdout",
     "output_type": "stream",
     "text": [
      "[1 2 3 4 5] \n",
      " [ 6  7 82  4  7]\n"
     ]
    }
   ],
   "source": [
    "#vectors in tensorflow\n",
    "list1 = [1,2,3,4,5]\n",
    "arr1 = np.array([6,7,82,4,7])\n",
    "tensor1 = tf.constant(list1,dtype=tf.int64)\n",
    "tensor2 = tf.constant(arr1,tf.int64)\n",
    "print(tensor1.numpy(),\"\\n\",tensor2.numpy())"
   ]
  },
  {
   "cell_type": "code",
   "execution_count": 4,
   "metadata": {
    "colab": {
     "base_uri": "https://localhost:8080/"
    },
    "id": "RMvTe6ugXLZf",
    "outputId": "919b481f-08b4-4067-8623-d86ee0842989"
   },
   "outputs": [
    {
     "data": {
      "text/plain": [
       "array([[1, 2, 3],\n",
       "       [4, 5, 6],\n",
       "       [7, 8, 9]], dtype=int32)"
      ]
     },
     "execution_count": 4,
     "metadata": {
      "tags": []
     },
     "output_type": "execute_result"
    }
   ],
   "source": [
    "#matrices in tensrorflow\n",
    "mat1 = tf.constant([[1,2,3],\n",
    "                    [4,5,6],\n",
    "                    [7,8,9]])\n",
    "mat1.numpy()"
   ]
  },
  {
   "cell_type": "markdown",
   "metadata": {
    "id": "JBZHsG1Jd9PQ"
   },
   "source": [
    "# Arithemetic operations on tensors"
   ]
  },
  {
   "cell_type": "code",
   "execution_count": 5,
   "metadata": {
    "colab": {
     "base_uri": "https://localhost:8080/"
    },
    "id": "xMuvuYD-X6f-",
    "outputId": "5167b303-aec3-49d4-d554-24d70e674352"
   },
   "outputs": [
    {
     "name": "stdout",
     "output_type": "stream",
     "text": [
      "[ 7  9 85  8 12]\n",
      "[ -5  -5 -79   0  -2]\n",
      "[  6  14 246  16  35]\n",
      "[0.16666667 0.28571429 0.03658537 1.         0.71428571]\n"
     ]
    }
   ],
   "source": [
    "#tensor operations\n",
    "print((tensor1 + tensor2).numpy())\n",
    "print((tensor1 - tensor2).numpy())\n",
    "print((tensor1 * tensor2).numpy())\n",
    "print((tensor1 / tensor2).numpy())"
   ]
  },
  {
   "cell_type": "markdown",
   "metadata": {
    "id": "WLyhcDYOeOmG"
   },
   "source": [
    "# Broadcasting in tensorflow\n",
    "\n",
    "Broadcasting allows the interaction between tensors of multiple sizes.\n",
    "\n",
    "For more details on broadcasting , refer to the pytorch course "
   ]
  },
  {
   "cell_type": "code",
   "execution_count": 6,
   "metadata": {
    "colab": {
     "base_uri": "https://localhost:8080/"
    },
    "id": "xnxPbKPVZzsc",
    "outputId": "1b231660-53e8-4a9b-b5c7-342909137ce1"
   },
   "outputs": [
    {
     "name": "stdout",
     "output_type": "stream",
     "text": [
      "tf.Tensor(\n",
      "[[ 6  7  8]\n",
      " [ 9 10 11]\n",
      " [12 13 14]], shape=(3, 3), dtype=int32) \n",
      "\n",
      "\n",
      "tf.Tensor(\n",
      "[[ 3  5  7]\n",
      " [ 6  8 10]\n",
      " [ 9 11 13]], shape=(3, 3), dtype=int32)\n"
     ]
    }
   ],
   "source": [
    "#broadcasting \n",
    "print(mat1 + 5,\"\\n\\n\")\n",
    "print(mat1 + [2,3,4])"
   ]
  }
 ],
 "metadata": {
  "colab": {
   "collapsed_sections": [],
   "name": "TF2-Basics.ipynb",
   "provenance": []
  },
  "kernelspec": {
   "display_name": "Python 3",
   "language": "python",
   "name": "python3"
  },
  "language_info": {
   "codemirror_mode": {
    "name": "ipython",
    "version": 3
   },
   "file_extension": ".py",
   "mimetype": "text/x-python",
   "name": "python",
   "nbconvert_exporter": "python",
   "pygments_lexer": "ipython3",
   "version": "3.8.3"
  }
 },
 "nbformat": 4,
 "nbformat_minor": 1
}
